{
 "cells": [
  {
   "cell_type": "markdown",
   "id": "42247a63-9d4f-4acc-8f01-8eb57bf1a9f8",
   "metadata": {},
   "source": [
    "# Conway's Game of Life in Pandas\n",
    "\n",
    "![Grid](cover_02.jpg)\n",
    "\n",
    "This project demonstrates a basic implementation of Conway's Game of Life using Pandas.\n",
    "\n",
    "Conway's Game of Life is a cellular automaton devised by mathematician John Horton Conway in 1970. It consists of a grid of cells that can live, die, or multiply based on a few mathematical rules. This notebook will simulate the game using Pandas DataFrames to represent the cells. \n",
    "\n",
    "- Initialize a grid with a simple demo pattern.\n",
    "- Implement the rules of the game using loops.\n",
    "- Simulate the evolution of the grid over multiple steps.\n",
    "- Display the grid's state at each step to create an animation effect.\n"
   ]
  },
  {
   "cell_type": "code",
   "execution_count": 23,
   "id": "8039e6ce-8a25-472d-bb0f-a091e73599dc",
   "metadata": {},
   "outputs": [],
   "source": [
    "import numpy as np\n",
    "import pandas as pd\n",
    "import time\n",
    "from IPython.display import clear_output"
   ]
  },
  {
   "cell_type": "markdown",
   "id": "e660f7c3-4aa6-4834-a2de-b3ec346f2c96",
   "metadata": {},
   "source": [
    "### Grid Initialization\n",
    "\n",
    "In this step, we initialize a grid where each cell is either alive (represented by '0') or dead (represented by '•'). The initial setup and the number of steps can be modified using the variables.\n"
   ]
  },
  {
   "cell_type": "code",
   "execution_count": 28,
   "id": "c0108243-2fb5-41e0-b238-1a62031465c2",
   "metadata": {},
   "outputs": [
    {
     "name": "stdout",
     "output_type": "stream",
     "text": [
      "• • • • • • • • • • • • • • • • • • •\n",
      "• • 0 • • • • • • • • • • • • • • • •\n",
      "• • • 0 • • • • • • • • • • • • • • •\n",
      "• 0 0 0 • • • • • • • • • • • • • • •\n",
      "• • • • • • • • • • • • • • • • • • •\n",
      "• • • • • • • • • • • • • • • • • • •\n",
      "• • • • • 0 0 • • • • • • • • • • • •\n",
      "• • • • 0 • • 0 • • • • • • • • • • •\n",
      "• • • • • 0 0 • • • • • • • • • • • •\n",
      "• • • • • • • • • • • • • • • • • • •\n",
      "• • • • • • • • • • • • • • • • • • •\n",
      "• • • • • • • • • • • • • • • • • • •\n",
      "• • • • • • • • • • • • • • • • • • •\n",
      "• • • • • • • • • • • • • • • • • • •\n",
      "• • • • • • • • • • • • • • • • • • •\n",
      "• • • • • • • • • • • • • • • • • • •\n",
      "• • • • • • • • • • • • • • • • • • •\n"
     ]
    }
   ],
   "source": [
    "# Set the number of steps\n",
    "steps = 60\n",
    "\n",
    "# Set the delay\n",
    "delay = 0.35\n",
    "\n",
    "# Set up the grid\n",
    "grid_size = (17, 19)\n",
    "\n",
    "# Initialize a grid with all cells dead\n",
    "grid = np.full(grid_size, '•')\n",
    "\n",
    "# Modify the grid below to set the initial live cells\n",
    "initial_grid = [\n",
    "    ['•', '•', '•', '•', '•', '•', '•', '•', '•', '•', '•', '•', '•', '•', '•', '•', '•', '•', '•'],\n",
    "    ['•', '•', '0', '•', '•', '•', '•', '•', '•', '•', '•', '•', '•', '•', '•', '•', '•', '•', '•'],\n",
    "    ['•', '•', '•', '0', '•', '•', '•', '•', '•', '•', '•', '•', '•', '•', '•', '•', '•', '•', '•'],\n",
    "    ['•', '0', '0', '0', '•', '•', '•', '•', '•', '•', '•', '•', '•', '•', '•', '•', '•', '•', '•'],\n",
    "    ['•', '•', '•', '•', '•', '•', '•', '•', '•', '•', '•', '•', '•', '•', '•', '•', '•', '•', '•'],\n",
    "    ['•', '•', '•', '•', '•', '•', '•', '•', '•', '•', '•', '•', '•', '•', '•', '•', '•', '•', '•'],\n",
    "    ['•', '•', '•', '•', '•', '0', '0', '•', '•', '•', '•', '•', '•', '•', '•', '•', '•', '•', '•'],\n",
    "    ['•', '•', '•', '•', '0', '•', '•', '0', '•', '•', '•', '•', '•', '•', '•', '•', '•', '•', '•'],\n",
    "    ['•', '•', '•', '•', '•', '0', '0', '•', '•', '•', '•', '•', '•', '•', '•', '•', '•', '•', '•'],\n",
    "    ['•', '•', '•', '•', '•', '•', '•', '•', '•', '•', '•', '•', '•', '•', '•', '•', '•', '•', '•'],\n",
    "    ['•', '•', '•', '•', '•', '•', '•', '•', '•', '•', '•', '•', '•', '•', '•', '•', '•', '•', '•'],\n",
    "    ['•', '•', '•', '•', '•', '•', '•', '•', '•', '•', '•', '•', '•', '•', '•', '•', '•', '•', '•'],\n",
    "    ['•', '•', '•', '•', '•', '•', '•', '•', '•', '•', '•', '•', '•', '•', '•', '•', '•', '•', '•'],\n",
    "    ['•', '•', '•', '•', '•', '•', '•', '•', '•', '•', '•', '•', '•', '•', '•', '•', '•', '•', '•'],\n",
    "    ['•', '•', '•', '•', '•', '•', '•', '•', '•', '•', '•', '•', '•', '•', '•', '•', '•', '•', '•'],\n",
    "    ['•', '•', '•', '•', '•', '•', '•', '•', '•', '•', '•', '•', '•', '•', '•', '•', '•', '•', '•'],\n",
    "    ['•', '•', '•', '•', '•', '•', '•', '•', '•', '•', '•', '•', '•', '•', '•', '•', '•', '•', '•']\n",
    "]\n",
    "\n",
    "grid = pd.DataFrame(initial_grid)\n",
    "\n",
    "# Display the grid\n",
    "df_grid = pd.DataFrame(grid)\n",
    "print(df_grid.to_string(index=False, header=False))"
   ]
  },
  {
   "cell_type": "markdown",
   "id": "50f203af-b299-432c-acf2-f469a4925da8",
   "metadata": {},
   "source": [
    "### Running the Simulation\n",
    "\n",
    "Now we simulate the evolution of the grid over a series of steps. The `run_simulation` function displays the grid at each step, with a brief delay between steps to create an animation effect.\n"
   ]
  },
  {
   "cell_type": "code",
   "execution_count": 29,
   "id": "ece97373-863d-4833-8aab-153b6fd09b12",
   "metadata": {},
   "outputs": [
    {
     "name": "stdout",
     "output_type": "stream",
     "text": [
      "• • • • • • • • • • • • • • • • • • •\n",
      "0 0 0 • • • 0 0 0 • • • • • • • • • •\n",
      "• • • • • • • • • • • • • • • • • • •\n",
      "• • • • 0 • • • • • • • • • • • • • •\n",
      "• • • • 0 • • • • • • • • • • • • • •\n",
      "• • • • 0 • • • • • • • • • • • • • •\n",
      "• • • • • • • • • • • • • • • • • • •\n",
      "• • • • • • • • • • • • • • • • • • •\n",
      "• • • • • • • • • • • • • • • • • • •\n",
      "• • • • • • • • • • • • • • • • • • •\n",
      "• • • • • • • • • • • • • • • • • • •\n",
      "• • • • • • • • • • • • • • • • • • •\n",
      "• • • • • • • • • • • • • • • • • • •\n",
      "• • • • • • • • • • • • • • • • • • •\n",
      "• • • • 0 • • • • • • • • • • • • • •\n",
      "• • • • 0 • • • • • • • • • • • • • •\n",
      "• • • • 0 • • • • • • • • • • • • • •\n"
     ]
    }
   ],
   "source": [
    "def count_neighbors(df, i, j):\n",
    "\n",
    "    rows, cols = df.shape\n",
    "    neighbor_sum = 0\n",
    "    for x in range(-1, 2):\n",
    "        for y in range(-1, 2):\n",
    "            if x == 0 and y == 0:\n",
    "                continue\n",
    "            if df.iloc[(i + x) % rows, (j + y) % cols] == '0':\n",
    "                neighbor_sum += 1\n",
    "    return neighbor_sum\n",
    "\n",
    "def apply_rules(df):\n",
    "\n",
    "    new_grid = df.copy()\n",
    "    rows, cols = df.shape\n",
    "    for i in range(rows):\n",
    "        for j in range(cols):\n",
    "            live_neighbors = count_neighbors(df, i, j)\n",
    "            if df.iloc[i, j] == '0':  # Cell is alive\n",
    "                if live_neighbors < 2 or live_neighbors > 3:\n",
    "                    new_grid.iloc[i, j] = '•'  # Cell dies\n",
    "            else:  # Cell is dead\n",
    "                if live_neighbors == 3:\n",
    "                    new_grid.iloc[i, j] = '0'  # Cell becomes alive\n",
    "    return new_grid\n",
    "\n",
    "def run_simulation(df, steps, delay):\n",
    "\n",
    "    for _ in range(steps):\n",
    "        clear_output(wait=True)\n",
    "        print(df.to_string(index=False, header=False))\n",
    "        df = apply_rules(df)\n",
    "        time.sleep(delay)\n",
    "\n",
    "# Run the simulation\n",
    "run_simulation(df_grid, steps, delay)"
   ]
  },
  {
   "cell_type": "markdown",
   "id": "a4e07492-bda3-4fa3-a22b-6ab074f304c9",
   "metadata": {},
   "source": [
    "## Conclusion\n",
    "\n",
    "This notebook presented a basic implementation of Conway's Game of Life using Pandas. We initialized a grid with a demo pattern, applied the rules of the game using loops, and observed the grid's evolution over time. The project demonstrates the power and versatility of Pandas for tasks beyond traditional data analysis.\n"
   ]
  },
  {
   "cell_type": "code",
   "execution_count": null,
   "id": "98254f9c-ee42-40bb-9957-d4273fee1e44",
   "metadata": {},
   "outputs": [],
   "source": []
  }
 ],
 "metadata": {
  "kernelspec": {
   "display_name": "Python 3 (ipykernel)",
   "language": "python",
   "name": "python3"
  },
  "language_info": {
   "codemirror_mode": {
    "name": "ipython",
    "version": 3
   },
   "file_extension": ".py",
   "mimetype": "text/x-python",
   "name": "python",
   "nbconvert_exporter": "python",
   "pygments_lexer": "ipython3",
   "version": "3.9.7"
  }
 },
 "nbformat": 4,
 "nbformat_minor": 5
}
